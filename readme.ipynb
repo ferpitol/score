{
 "cells": [
  {
   "cell_type": "markdown",
   "metadata": {},
   "source": [
    "# Score API\n"
   ]
  },
  {
   "cell_type": "markdown",
   "metadata": {},
   "source": [
    "This is an example of the \"score\" exercise : https://www.hackerrank.com/challenges/breaking-best-and-worst-records/problem"
   ]
  },
  {
   "cell_type": "markdown",
   "metadata": {},
   "source": [
    "The service is exposed it through an API, also all the required unit test are provided"
   ]
  },
  {
   "cell_type": "markdown",
   "metadata": {},
   "source": [
    "The API takes into consideration the following validation:\n",
    "\n",
    "* Convert to positive every negative number\n",
    "* Validate the correct input data\n",
    "* Verify the existence of the endpoint\n",
    "* Verify the correctness of the response data\n",
    "* Validate the error messages"
   ]
  },
  {
   "cell_type": "markdown",
   "metadata": {},
   "source": [
    "# Installation"
   ]
  },
  {
   "cell_type": "markdown",
   "metadata": {},
   "source": [
    "## Via Docker"
   ]
  },
  {
   "cell_type": "markdown",
   "metadata": {},
   "source": [
    "a DockerFile and DockerCompose files are provided just run:\n",
    "\n",
    "- docker-compose up\n",
    "\n",
    "The docker-compose file first run the test cases and after run the application exposing it in the port 8000"
   ]
  },
  {
   "cell_type": "markdown",
   "metadata": {},
   "source": [
    "![docker example](images/working.PNG)"
   ]
  },
  {
   "cell_type": "markdown",
   "metadata": {},
   "source": [
    "# Directly"
   ]
  },
  {
   "cell_type": "markdown",
   "metadata": {},
   "source": [
    "install python 3"
   ]
  },
  {
   "cell_type": "markdown",
   "metadata": {},
   "source": [
    "located inside the app folder run\n",
    "\n",
    "* pip install -r requirements.txt"
   ]
  },
  {
   "cell_type": "markdown",
   "metadata": {},
   "source": [
    "## Execute test cases"
   ]
  },
  {
   "cell_type": "markdown",
   "metadata": {},
   "source": [
    "located inside the scores folder run\n",
    "* python manage.py test"
   ]
  },
  {
   "cell_type": "markdown",
   "metadata": {},
   "source": [
    "![docker example](images/test.PNG)"
   ]
  },
  {
   "cell_type": "markdown",
   "metadata": {},
   "source": [
    "The test file is located at scores/test/test_ScoresReturn.py"
   ]
  },
  {
   "cell_type": "markdown",
   "metadata": {},
   "source": [
    "![docker example](images/test2.PNG)"
   ]
  },
  {
   "cell_type": "markdown",
   "metadata": {},
   "source": [
    "## Run application"
   ]
  },
  {
   "cell_type": "markdown",
   "metadata": {},
   "source": [
    "located inside the scores folder execute the command\n",
    "\n",
    "* python manage.py runserver 0.0.0.0:8000 --noreload\n",
    "\n",
    "This will execute the application in localhost in the port 8000"
   ]
  },
  {
   "cell_type": "markdown",
   "metadata": {},
   "source": [
    "![docker example](images/execute.PNG)"
   ]
  },
  {
   "cell_type": "markdown",
   "metadata": {},
   "source": [
    "The code of the API is located at scores/API/views_score.py"
   ]
  },
  {
   "cell_type": "markdown",
   "metadata": {},
   "source": [
    "![docker example](images/api.PNG)"
   ]
  },
  {
   "cell_type": "markdown",
   "metadata": {},
   "source": [
    "See the following code for test and use the application"
   ]
  },
  {
   "cell_type": "code",
   "execution_count": 4,
   "metadata": {},
   "outputs": [
    {
     "name": "stdout",
     "output_type": "stream",
     "text": [
      "<Response [200]>\n",
      "{\"max\":\"2\",\"min\":\"4\"}\n"
     ]
    }
   ],
   "source": [
    "import requests\n",
    "import os\n",
    "\n",
    "headers = {}\n",
    "headers['content-type'] = 'application/json'\n",
    "args = {}\n",
    "args['verify'] = False\n",
    "os.environ['no_proxy'] = '127.0.0.1,localhost'\n",
    "data = {'scores' :[10,5,20,20,4,5,2,25,1]}\n",
    "r = requests.post('http://localhost:8000/api/scores',json=data,headers=headers,**args)\n",
    "print(r)\n",
    "print(r.text)"
   ]
  }
 ],
 "metadata": {
  "kernelspec": {
   "display_name": "Python 3",
   "language": "python",
   "name": "python3"
  },
  "language_info": {
   "codemirror_mode": {
    "name": "ipython",
    "version": 3
   },
   "file_extension": ".py",
   "mimetype": "text/x-python",
   "name": "python",
   "nbconvert_exporter": "python",
   "pygments_lexer": "ipython3",
   "version": "3.7.4"
  }
 },
 "nbformat": 4,
 "nbformat_minor": 2
}
